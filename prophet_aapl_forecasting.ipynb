{
  "nbformat": 4,
  "nbformat_minor": 0,
  "metadata": {
    "colab": {
      "name": "prophet-aapl-forecasting.ipynb",
      "provenance": [],
      "private_outputs": true,
      "mount_file_id": "1a_GRlpjnegAJSkX2nnWxeUrWRbaf0B-C",
      "authorship_tag": "ABX9TyMAlqhrbm6vPGv2vxz/Xtio",
      "include_colab_link": true
    },
    "kernelspec": {
      "name": "python3",
      "display_name": "Python 3"
    },
    "accelerator": "TPU"
  },
  "cells": [
    {
      "cell_type": "markdown",
      "metadata": {
        "id": "view-in-github",
        "colab_type": "text"
      },
      "source": [
        "<a href=\"https://colab.research.google.com/github/thedarsideofit/finance_python_practices/blob/main/prophet_aapl_forecasting.ipynb\" target=\"_parent\"><img src=\"https://colab.research.google.com/assets/colab-badge.svg\" alt=\"Open In Colab\"/></a>"
      ]
    },
    {
      "cell_type": "markdown",
      "metadata": {
        "id": "5AEUMaxYOwkc"
      },
      "source": [
        "Main Source\n",
        "\n",
        "https://towardsdatascience.com/apple-stock-and-bitcoin-price-predictions-using-fbs-prophet-for-beginners-python-96d5ec404b77?gi=962fdc51375b"
      ]
    },
    {
      "cell_type": "code",
      "metadata": {
        "id": "eB7dVur7ODCP"
      },
      "source": [
        "pip install alphavantage_api"
      ],
      "execution_count": null,
      "outputs": []
    },
    {
      "cell_type": "code",
      "metadata": {
        "id": "6M-9iKnkhm9A"
      },
      "source": [
        "pip install alpha_vantage"
      ],
      "execution_count": null,
      "outputs": []
    },
    {
      "cell_type": "code",
      "metadata": {
        "id": "V7Kk6UfVPa9E"
      },
      "source": [
        "import pandas as pd\n",
        "from fbprophet import Prophet\n",
        "import matplotlib.pyplot as plt\n",
        "import numpy as np\n",
        "import seaborn as sns\n",
        "import wordcloud\n",
        "from alphaVantageAPI.alphavantage import AlphaVantage "
      ],
      "execution_count": null,
      "outputs": []
    },
    {
      "cell_type": "code",
      "metadata": {
        "id": "KfiQU8hQRr3T"
      },
      "source": [
        "from alpha_vantage.timeseries import TimeSeries\n",
        "import matplotlib.pyplot as plt\n",
        "ts = TimeSeries(key='Your Access Key',output_format='pandas')\n",
        "apple, meta_data = ts.get_daily(symbol='AAPL',outputsize='full')\n",
        "apple.head()"
      ],
      "execution_count": null,
      "outputs": []
    },
    {
      "cell_type": "code",
      "metadata": {
        "id": "RlbTT7ShSNj6"
      },
      "source": [
        "#Write/Read from a file.\n",
        "apple.to_csv ('/content/drive/My Drive/Colab Notebooks/Finanzas/pricedataapple.csv', index = 'date', header=True)\n",
        "apple = pd.read_csv('/content/drive/My Drive/Colab Notebooks/Finanzas/pricedataapple.csv')\n",
        "apple.head()"
      ],
      "execution_count": null,
      "outputs": []
    },
    {
      "cell_type": "code",
      "metadata": {
        "id": "0_-zyu9mTIm0"
      },
      "source": [
        "from alpha_vantage.techindicators import TechIndicators\n",
        "import matplotlib.pyplot as plt\n",
        "ti = TechIndicators(key='NLRHFAQBGU5WGPQH',output_format='pandas')\n",
        "data, meta_data = ti.get_sma(symbol='AAPL',interval='daily', time_period=60,series_type = 'close')\n",
        "data.plot()\n",
        "plt.show()"
      ],
      "execution_count": null,
      "outputs": []
    },
    {
      "cell_type": "code",
      "metadata": {
        "id": "5M9MjGFeTLqC"
      },
      "source": [
        "from alpha_vantage.techindicators import TechIndicators\n",
        "import matplotlib.pyplot as plt\n",
        "ti = TechIndicators(key='Youraccesskey',output_format='pandas')\n",
        "data, meta_data = ti.get_rsi(symbol='AAPL',interval='daily', time_period=60,series_type = 'close')\n",
        "data.plot()\n",
        "plt.show()"
      ],
      "execution_count": null,
      "outputs": []
    },
    {
      "cell_type": "code",
      "metadata": {
        "id": "iEJ-tYOpTX-t"
      },
      "source": [
        "#Convert the dataframe into the prophet expected format.\n",
        "apple.rename(columns={'4. close': 'y', 'date': 'ds'},inplace=True)\n",
        "apple['ds'] = pd.to_datetime(apple['ds'])\n",
        "apple['y']=apple['y'].astype(float)"
      ],
      "execution_count": null,
      "outputs": []
    },
    {
      "cell_type": "code",
      "metadata": {
        "id": "HRYGK90NiIT9"
      },
      "source": [
        "#Fit the model - df-Apple\n",
        "df_prophet = Prophet(changepoint_prior_scale=0.15, daily_seasonality=True)\n",
        "df_prophet.fit(apple)"
      ],
      "execution_count": null,
      "outputs": []
    },
    {
      "cell_type": "code",
      "metadata": {
        "id": "mVnlmLNRUmKO"
      },
      "source": [
        "fcast_time=20   # 1 year\n",
        "df_forecast = df_prophet.make_future_dataframe(periods= fcast_time, freq='D')\n",
        "df_forecast.tail(10)"
      ],
      "execution_count": null,
      "outputs": []
    },
    {
      "cell_type": "code",
      "metadata": {
        "id": "DoCCQGR0jXll"
      },
      "source": [
        "# Forecasting - call the method predict\n",
        "df_forecast = df_prophet.predict(df_forecast)\n",
        "df_forecast[['ds', 'yhat', 'yhat_lower', 'yhat_upper']].tail(60)"
      ],
      "execution_count": null,
      "outputs": []
    },
    {
      "cell_type": "code",
      "metadata": {
        "id": "AiVgq3e9jpbG"
      },
      "source": [
        "df_prophet.plot(df_forecast, xlabel = 'Date', ylabel = 'Apple Price')"
      ],
      "execution_count": null,
      "outputs": []
    },
    {
      "cell_type": "code",
      "metadata": {
        "id": "otCRqMJPj2ZU"
      },
      "source": [
        "fig2 = df_prophet.plot_components(df_forecast)\n",
        "plt.show()"
      ],
      "execution_count": null,
      "outputs": []
    },
    {
      "cell_type": "code",
      "metadata": {
        "id": "EUd-0n5pj7k_"
      },
      "source": [
        "from fbprophet.plot import plot_plotly\n",
        "import plotly.offline as py\n",
        "py.init_notebook_mode()\n",
        "\n",
        "fig = plot_plotly(df_prophet, df_forecast)  # This returns a plotly Figure\n",
        "py.iplot(fig)"
      ],
      "execution_count": null,
      "outputs": []
    },
    {
      "cell_type": "code",
      "metadata": {
        "id": "Sq0994-Ikc0h"
      },
      "source": [
        "from fbprophet.diagnostics import cross_validation\n",
        "df_cv = cross_validation(df_prophet, initial='2920 days', period='60 days', horizon = '720 days')\n",
        "df_cv.tail()"
      ],
      "execution_count": null,
      "outputs": []
    },
    {
      "cell_type": "code",
      "metadata": {
        "id": "0aIsQcbynGhn"
      },
      "source": [
        "from fbprophet.diagnostics import performance_metrics\n",
        "df_p = performance_metrics(df_cv)\n",
        "df_p.head()"
      ],
      "execution_count": null,
      "outputs": []
    },
    {
      "cell_type": "code",
      "metadata": {
        "id": "-g7eW2brnfZK"
      },
      "source": [
        "from fbprophet.plot import plot_cross_validation_metric\n",
        "fig = plot_cross_validation_metric(df_cv, metric = 'mape')"
      ],
      "execution_count": null,
      "outputs": []
    }
  ]
}